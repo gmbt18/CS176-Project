{
  "cells": [
    {
      "cell_type": "code",
      "source": [
        "#Setup\n",
        "import numpy as np\n",
        "import matplotlib.pyplot as plt\n",
        "import pandas as pd\n",
        "import sklearn"
      ],
      "metadata": {
        "id": "KTN0BKFlb55h"
      },
      "execution_count": 174,
      "outputs": []
    },
    {
      "cell_type": "code",
      "source": [
        "#Load Dataset\n",
        "dataset = pd.read_csv('https://raw.githubusercontent.com/gmbt18/CS176-Project/cedric-preproc/Exasens.csv')\n",
        "otherdata = pd.read_csv('https://raw.githubusercontent.com/gmbt18/CS176-Project/main/Exasens.csv')"
      ],
      "metadata": {
        "id": "wNpXrLYAb8GR"
      },
      "execution_count": 175,
      "outputs": []
    },
    {
      "cell_type": "code",
      "source": [
        "#Removing unnecessary rows and cols\n",
        "dataset.drop(dataset.columns[[1,2,3,4,5,9,10,11,12]],axis=1,inplace=True)\n",
        "dataset.drop([0,1],axis=0,inplace=True)\n",
        "\n",
        "dataset.drop(dataset[dataset['Diagnosis'] == 'Infected'].index,axis=0,inplace=True)\n",
        "dataset.drop(dataset[dataset['Diagnosis'] == 'Asthma'].index,axis=0,inplace=True)"
      ],
      "metadata": {
        "id": "tqSqir-QcHda"
      },
      "execution_count": 176,
      "outputs": []
    },
    {
      "cell_type": "code",
      "execution_count": 178,
      "metadata": {
        "id": "V9hIeTOYbwxF"
      },
      "outputs": [],
      "source": [
        "#Rearranging Cols\n",
        "dataset = dataset[['Gender','Age','Smoking','Diagnosis']]\n",
        "\n",
        "#Rearranging Rows\n",
        "dataset.sort_values(by=['Diagnosis'], ascending=False, inplace=True)\n",
        "dataset = dataset.reset_index()\n",
        "del dataset['index']\n",
        "\n",
        "#Replace values\n",
        "# X = dataset.iloc[:,[1,2,3]].values\n",
        "# Y = dataset.iloc[:,-1].values\n",
        "# print(X)\n",
        "dataset.replace('HC',0,inplace=True)\n",
        "dataset.replace('COPD',1,inplace=True)\n",
        "\n",
        "dataset['Age'] = dataset['Age'].mask(dataset['Age']<40,1)\n",
        "dataset['Age'] = dataset['Age'].mask((dataset['Age']>=40) & (dataset['Age']<=60),2)\n",
        "dataset['Age'] = dataset['Age'].mask(dataset['Age']>60,3)"
      ]
    },
    {
      "cell_type": "code",
      "source": [
        "# FOR CHECKING ONLY\n",
        "print(dataset)\n",
        "print(dataset['Age'].sum())\n",
        "print(otherdata['Age Group'].sum())\n",
        "print(dataset['Smoking'].sum())\n",
        "print(otherdata['Smoking'].sum())\n",
        "print(dataset['Gender'].sum())\n",
        "print(otherdata['Gender'].sum())"
      ],
      "metadata": {
        "colab": {
          "base_uri": "https://localhost:8080/"
        },
        "id": "8bEAG_pIqFFW",
        "outputId": "3edc15d2-4ff5-4c9a-e612-1e97cc621481"
      },
      "execution_count": 179,
      "outputs": [
        {
          "output_type": "stream",
          "name": "stdout",
          "text": [
            "     Gender  Age  Smoking  Diagnosis\n",
            "0       0.0  1.0      1.0          0\n",
            "1       0.0  2.0      3.0          0\n",
            "2       1.0  1.0      1.0          0\n",
            "3       1.0  1.0      1.0          0\n",
            "4       1.0  1.0      1.0          0\n",
            "..      ...  ...      ...        ...\n",
            "234     0.0  3.0      2.0          1\n",
            "235     1.0  3.0      2.0          1\n",
            "236     1.0  3.0      2.0          1\n",
            "237     0.0  3.0      2.0          1\n",
            "238     1.0  3.0      2.0          1\n",
            "\n",
            "[239 rows x 4 columns]\n",
            "473.0\n",
            "476\n",
            "421.0\n",
            "421\n",
            "112.0\n",
            "112\n"
          ]
        }
      ]
    }
  ],
  "metadata": {
    "interpreter": {
      "hash": "b3500145e32d6dccbf37df4675019ccd1f91878957d70edde75a53b4150122c4"
    },
    "kernelspec": {
      "display_name": "Python 3.9.5 ('.venv': venv)",
      "language": "python",
      "name": "python3"
    },
    "language_info": {
      "name": "python",
      "version": "3.9.5"
    },
    "orig_nbformat": 4,
    "colab": {
      "name": "project.ipynb",
      "provenance": []
    }
  },
  "nbformat": 4,
  "nbformat_minor": 0
}