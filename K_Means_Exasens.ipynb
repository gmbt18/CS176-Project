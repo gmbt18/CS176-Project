{
  "cells": [
    {
      "cell_type": "code",
      "execution_count": 296,
      "metadata": {
        "id": "YBjRA5v05PgN"
      },
      "outputs": [],
      "source": [
        "#Setup\n",
        "import numpy as np\n",
        "import matplotlib.pyplot as plt\n",
        "import pandas as pd\n",
        "from sklearn.cluster import KMeans\n",
        "from sklearn import datasets"
      ]
    },
    {
      "cell_type": "code",
      "source": [
        "#Load Dataset\n",
        "dataset = pd.read_csv('https://raw.githubusercontent.com/gmbt18/CS176-Project/cedric-preproc/Exasens.csv')"
      ],
      "metadata": {
        "id": "JFTs-zQ6QLrj"
      },
      "execution_count": 297,
      "outputs": []
    },
    {
      "cell_type": "code",
      "source": [
        "#Removing unnecessary rows and cols\n",
        "dataset.drop(dataset.columns[[9,10,11,12]],axis=1,inplace=True)\n",
        "# dataset.drop(dataset.columns[[1,2,3,4,5]],axis=1,inplace=True)\n",
        "dataset.drop([0,1],axis=0,inplace=True)\n",
        "\n",
        "# dataset.drop(dataset[dataset['Diagnosis'] == 'Infected'].index,axis=0,inplace=True)\n",
        "# dataset.drop(dataset[dataset['Diagnosis'] == 'Asthma'].index,axis=0,inplace=True)\n",
        "\n",
        "#Replace values\n",
        "dataset.replace('HC',0,inplace=True)\n",
        "dataset.replace('COPD',1,inplace=True)\n",
        "dataset.replace('Asthma',2,inplace=True)\n",
        "dataset.replace('Infected',3,inplace=True)\n",
        "\n",
        "# Group Ages\n",
        "# dataset['Age'] = dataset['Age'].mask(dataset['Age']<40,1)\n",
        "# dataset['Age'] = dataset['Age'].mask((dataset['Age']>=40) & (dataset['Age']<60),2)\n",
        "# dataset['Age'] = dataset['Age'].mask(dataset['Age']>=60,3)\n",
        "\n",
        "#Renaming cols\n",
        "dataset.columns.values[2] = \"Img Min\"\n",
        "dataset.columns.values[3] = \"Img Avg\"\n",
        "dataset.columns.values[4] = \"Real Min\"\n",
        "dataset.columns.values[5] = \"Real Avg\"\n",
        "\n",
        "#Rearranging Cols\n",
        "# dataset = dataset[['Gender','Age','Smoking','Diagnosis']]\n",
        "\n",
        "#Rearranging Rows\n",
        "dataset.sort_values(by=['Diagnosis'], inplace=True)\n",
        "dataset = dataset.reset_index()\n",
        "del dataset['index']"
      ],
      "metadata": {
        "id": "CvPReDjbQP4x"
      },
      "execution_count": 298,
      "outputs": []
    },
    {
      "cell_type": "code",
      "source": [
        "# Impute missing using means\n",
        "# dataset['Img Min'].fillna(pd.to_numeric(dataset['Img Min'], errors='coerce').mean(),inplace=True)\n",
        "# dataset['Img Avg'].fillna(pd.to_numeric(dataset['Img Avg'], errors='coerce').mean(),inplace=True)\n",
        "# dataset['Real Min'].fillna(pd.to_numeric(dataset['Real Min'], errors='coerce').mean(),inplace=True)\n",
        "# dataset['Real Avg'].fillna(pd.to_numeric(dataset['Real Avg'], errors='coerce').mean(),inplace=True)"
      ],
      "metadata": {
        "id": "xzcE0yGOu1TE"
      },
      "execution_count": 299,
      "outputs": []
    },
    {
      "cell_type": "code",
      "source": [
        "print(dataset)"
      ],
      "metadata": {
        "colab": {
          "base_uri": "https://localhost:8080/"
        },
        "id": "AkQJWMXgQj-K",
        "outputId": "ca498244-0570-4afb-b58a-d3307bb01f3c"
      },
      "execution_count": 300,
      "outputs": [
        {
          "output_type": "stream",
          "name": "stdout",
          "text": [
            "     Diagnosis    ID  Img Min       Img Avg Real Min      Real Avg  Gender  \\\n",
            "0            0   121      NaN           NaN      NaN           NaN     0.0   \n",
            "1            0    24      NaN           NaN      NaN           NaN     0.0   \n",
            "2            0    25      NaN           NaN      NaN           NaN     0.0   \n",
            "3            0  26-3  -327.78  -318.5670948  -507.23  -469.5871885     1.0   \n",
            "4            0    27      NaN           NaN      NaN           NaN     1.0   \n",
            "..         ...   ...      ...           ...      ...           ...     ...   \n",
            "394          3  I123      NaN           NaN      NaN           NaN     0.0   \n",
            "395          3  I122      NaN           NaN      NaN           NaN     0.0   \n",
            "396          3  I121      NaN           NaN      NaN           NaN     0.0   \n",
            "397          3  I139      NaN           NaN      NaN           NaN     0.0   \n",
            "398          3  I180      NaN           NaN      NaN           NaN     0.0   \n",
            "\n",
            "      Age  Smoking  \n",
            "0    75.0      1.0  \n",
            "1    18.0      1.0  \n",
            "2    27.0      1.0  \n",
            "3    44.0      1.0  \n",
            "4    32.0      1.0  \n",
            "..    ...      ...  \n",
            "394  37.0      1.0  \n",
            "395  25.0      2.0  \n",
            "396  29.0      1.0  \n",
            "397  17.0      3.0  \n",
            "398  40.0      1.0  \n",
            "\n",
            "[399 rows x 9 columns]\n"
          ]
        }
      ]
    },
    {
      "cell_type": "code",
      "source": [
        "# CHOOSE WHICH COLUMNS TO USE (based on dataset)\n",
        "# 6 = Gender, 7 = Age, 8 = Smoking\n",
        "x = dataset.iloc[:, [7,8]]\n",
        "x = np.array(x)"
      ],
      "metadata": {
        "id": "Ro60PJWsrC-j"
      },
      "execution_count": 301,
      "outputs": []
    },
    {
      "cell_type": "code",
      "source": [
        "# Finding K\n",
        "# Collecting the distortions into list\n",
        "distortions = []\n",
        "K = range(1,10)\n",
        "for k in K:\n",
        "  kmeanModel = KMeans(n_clusters=k)\n",
        "  kmeanModel.fit(x)\n",
        "  distortions.append(kmeanModel.inertia_)\n",
        "\n",
        "# Plotting the distortions\n",
        "plt.figure(figsize=(16,8))\n",
        "plt.plot(K, distortions, 'bx-')\n",
        "plt.xlabel('k')\n",
        "plt.ylabel('Distortion')\n",
        "plt.title('The Elbow Method showing the optimal clusters')\n",
        "plt.show()"
      ],
      "metadata": {
        "colab": {
          "base_uri": "https://localhost:8080/",
          "height": 513
        },
        "id": "xUcAM8OZQyyV",
        "outputId": "21f7ef6e-c2f2-4560-9d1d-9ad81ca200e6"
      },
      "execution_count": 302,
      "outputs": [
        {
          "output_type": "display_data",
          "data": {
            "text/plain": [
              "<Figure size 1152x576 with 1 Axes>"
            ],
            "image/png": "[encoded data removed]"
          },
          "metadata": {
            "needs_background": "light"
          }
        }
      ]
    },
    {
      "cell_type": "code",
      "source": [
        "# Best K is K=4\n",
        "\n",
        "# Define the model\n",
        "kmeans_model = KMeans(n_clusters=4, random_state=1)\n",
        "# Fit into our dataset fit\n",
        "kmeans_predict = kmeans_model.fit_predict(x)\n",
        "\n",
        "plt.scatter(x[kmeans_predict == 0, 0], x[kmeans_predict == 0, 1], s = 100, c = 'red', label = 'A')\n",
        "plt.scatter(x[kmeans_predict == 1, 0], x[kmeans_predict == 1, 1], s = 100, c = 'blue', label = 'B')\n",
        "plt.scatter(x[kmeans_predict == 2, 0], x[kmeans_predict == 2, 1], s = 100, c = 'green', label = 'C')\n",
        "plt.scatter(x[kmeans_predict == 3, 0], x[kmeans_predict == 3, 1], s = 100, c = 'yellow', label = 'D')\n",
        "\n",
        "plt.scatter(kmeans_model.cluster_centers_[:, 0], kmeans_model.cluster_centers_[:,1], s = 100, c = 'yellow', label = 'Centroids')\n",
        "plt.legend()"
      ],
      "metadata": {
        "colab": {
          "base_uri": "https://localhost:8080/",
          "height": 282
        },
        "id": "n02R_NxfpYyP",
        "outputId": "df183fd7-2de6-48cb-a95d-437c76b647f3"
      },
      "execution_count": 303,
      "outputs": [
        {
          "output_type": "execute_result",
          "data": {
            "text/plain": [
              "<matplotlib.legend.Legend at 0x7f0a275ccf50>"
            ]
          },
          "metadata": {},
          "execution_count": 303
        },
        {
          "output_type": "display_data",
          "data": {
            "text/plain": [
              "<Figure size 432x288 with 1 Axes>"
            ],
            "image/png": "[encoded data removed]"
          },
          "metadata": {
            "needs_background": "light"
          }
        }
      ]
    }
  ],
  "metadata": {
    "kernelspec": {
      "display_name": "Python 3",
      "language": "python",
      "name": "python3"
    },
    "language_info": {
      "codemirror_mode": {
        "name": "ipython",
        "version": 3
      },
      "file_extension": ".py",
      "mimetype": "text/x-python",
      "name": "python",
      "nbconvert_exporter": "python",
      "pygments_lexer": "ipython3",
      "version": "3.8.5"
    },
    "colab": {
      "name": "K-Means Exasens.ipynb",
      "provenance": [],
      "collapsed_sections": []
    }
  },
  "nbformat": 4,
  "nbformat_minor": 0
}